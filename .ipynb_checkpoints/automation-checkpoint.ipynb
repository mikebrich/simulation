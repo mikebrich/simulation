{
 "cells": [
  {
   "cell_type": "code",
   "execution_count": 1,
   "id": "60b1b5b6-152c-4e8a-a402-60c6abb9490e",
   "metadata": {},
   "outputs": [],
   "source": [
    "import pandas as pd\n",
    "import numpy as np\n",
    "import re\n",
    "import os"
   ]
  },
  {
   "cell_type": "code",
   "execution_count": 2,
   "id": "734c594e-6501-4d81-87e1-70c2a86d1543",
   "metadata": {},
   "outputs": [],
   "source": [
    "def compute_on_time_percent(filename):\n",
    "    \n",
    "    #open file, get text\n",
    "    with open(filename, 'r') as file:\n",
    "        og_text = file.read()\n",
    "    \n",
    "    text = og_text.split(\"\\n\")\n",
    "    \n",
    "    #filter to get what we want \n",
    "    filtered_array = [element for element in text if \"Late Orders\" in element]\n",
    "    filtered_array = list(filter(lambda x: (\"Late Orders\" in x or \"On Time Orders\" in x) and \"Private Label\" not in x, text))\n",
    "    filtered_array\n",
    "    \n",
    "    #convert to DF\n",
    "    order_data = [re.split(r'\\s{2,}', elem.strip())[:2] for elem in filtered_array]\n",
    "    df = pd.DataFrame(order_data, columns=[\"Order Type\", \"Count\"])\n",
    "    df['Count'] = df['Count'].astype(int)\n",
    "    \n",
    "    #make edits to DF\n",
    "    df_even = df.iloc[::2].reset_index(drop=True)\n",
    "    df_odd = df.iloc[1::2].reset_index(drop=True)\n",
    "    df_merge = pd.concat([df_even, df_odd], axis=1)\n",
    "    df_merge = df_merge.rename(columns={'Order Type': 'Late', 'Count': 'OT_Count'})\n",
    "    new_columns = ['Late', 'Late_Count', 'On_Time', 'OT_Count']\n",
    "    df_merge.columns = new_columns\n",
    "    \n",
    "    #Calculate percentages\n",
    "    df_merge[\"Sum\"] = df_merge[\"Late_Count\"] + df_merge[\"OT_Count\"]\n",
    "    df_merge[\"OT_Percent\"] = df_merge[\"OT_Count\"] / df_merge[\"Sum\"]\n",
    "    \n",
    "    #Compute average\n",
    "    on_time_avg = df_merge['OT_Percent'].mean()\n",
    "    on_time_avg = on_time_avg = round(on_time_avg, 4)\n",
    " \n",
    "    return on_time_avg"
   ]
  },
  {
   "cell_type": "code",
   "execution_count": 3,
   "id": "525f3e50-6d40-47a6-a42a-e0d9e6b4f3e1",
   "metadata": {},
   "outputs": [],
   "source": [
    "results = []\n",
    "filenames = ['inputs/' + f for f in os.listdir(\"inputs/\") if os.path.isfile(os.path.join(\"inputs/\", f)) and f.endswith(\".txt\")]\n",
    "for fn in filenames: \n",
    "    \n",
    "    percent_on_time = compute_on_time_percent(fn)\n",
    "    \n",
    "    results.append({\"filename\": fn, \"percent_on_time\": percent_on_time})\n",
    "    \n",
    "    "
   ]
  },
  {
   "cell_type": "code",
   "execution_count": 4,
   "id": "995a2136-bc6c-448c-af4a-1ceb8941b219",
   "metadata": {},
   "outputs": [
    {
     "data": {
      "text/html": [
       "<div>\n",
       "<style scoped>\n",
       "    .dataframe tbody tr th:only-of-type {\n",
       "        vertical-align: middle;\n",
       "    }\n",
       "\n",
       "    .dataframe tbody tr th {\n",
       "        vertical-align: top;\n",
       "    }\n",
       "\n",
       "    .dataframe thead th {\n",
       "        text-align: right;\n",
       "    }\n",
       "</style>\n",
       "<table border=\"1\" class=\"dataframe\">\n",
       "  <thead>\n",
       "    <tr style=\"text-align: right;\">\n",
       "      <th></th>\n",
       "      <th>filename</th>\n",
       "      <th>percent_on_time</th>\n",
       "    </tr>\n",
       "  </thead>\n",
       "  <tbody>\n",
       "    <tr>\n",
       "      <th>0</th>\n",
       "      <td>inputs/extra_m_and_g.txt</td>\n",
       "      <td>0.7056</td>\n",
       "    </tr>\n",
       "    <tr>\n",
       "      <th>1</th>\n",
       "      <td>inputs/extra_8k_hold_tank.txt</td>\n",
       "      <td>0.5717</td>\n",
       "    </tr>\n",
       "    <tr>\n",
       "      <th>2</th>\n",
       "      <td>inputs/extra_mandg_and_extra_bucketline.txt</td>\n",
       "      <td>0.7056</td>\n",
       "    </tr>\n",
       "    <tr>\n",
       "      <th>3</th>\n",
       "      <td>inputs/2_extra_bucket_lines.txt</td>\n",
       "      <td>0.6629</td>\n",
       "    </tr>\n",
       "    <tr>\n",
       "      <th>4</th>\n",
       "      <td>inputs/extra_quart_line.txt</td>\n",
       "      <td>0.9972</td>\n",
       "    </tr>\n",
       "    <tr>\n",
       "      <th>5</th>\n",
       "      <td>inputs/extra_20k_hold_tank.txt</td>\n",
       "      <td>0.9466</td>\n",
       "    </tr>\n",
       "    <tr>\n",
       "      <th>6</th>\n",
       "      <td>inputs/3_extra_bucket_lines.txt</td>\n",
       "      <td>0.6629</td>\n",
       "    </tr>\n",
       "    <tr>\n",
       "      <th>7</th>\n",
       "      <td>inputs/extra_bucket.txt</td>\n",
       "      <td>0.6629</td>\n",
       "    </tr>\n",
       "  </tbody>\n",
       "</table>\n",
       "</div>"
      ],
      "text/plain": [
       "                                      filename  percent_on_time\n",
       "0                     inputs/extra_m_and_g.txt           0.7056\n",
       "1                inputs/extra_8k_hold_tank.txt           0.5717\n",
       "2  inputs/extra_mandg_and_extra_bucketline.txt           0.7056\n",
       "3              inputs/2_extra_bucket_lines.txt           0.6629\n",
       "4                  inputs/extra_quart_line.txt           0.9972\n",
       "5               inputs/extra_20k_hold_tank.txt           0.9466\n",
       "6              inputs/3_extra_bucket_lines.txt           0.6629\n",
       "7                      inputs/extra_bucket.txt           0.6629"
      ]
     },
     "execution_count": 4,
     "metadata": {},
     "output_type": "execute_result"
    }
   ],
   "source": [
    "final_df = pd.DataFrame(results)\n",
    "final_df"
   ]
  }
 ],
 "metadata": {
  "kernelspec": {
   "display_name": "Python 3 (ipykernel)",
   "language": "python",
   "name": "python3"
  },
  "language_info": {
   "codemirror_mode": {
    "name": "ipython",
    "version": 3
   },
   "file_extension": ".py",
   "mimetype": "text/x-python",
   "name": "python",
   "nbconvert_exporter": "python",
   "pygments_lexer": "ipython3",
   "version": "3.9.13"
  }
 },
 "nbformat": 4,
 "nbformat_minor": 5
}
