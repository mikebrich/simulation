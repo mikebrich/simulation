{
 "cells": [
  {
   "cell_type": "code",
   "execution_count": 1,
   "id": "60b1b5b6-152c-4e8a-a402-60c6abb9490e",
   "metadata": {},
   "outputs": [],
   "source": [
    "import pandas as pd\n",
    "import numpy as np\n",
    "import re"
   ]
  },
  {
   "cell_type": "code",
   "execution_count": 10,
   "id": "734c594e-6501-4d81-87e1-70c2a86d1543",
   "metadata": {},
   "outputs": [],
   "source": [
    "def compute_on_time_percent(filename):\n",
    "    \n",
    "    #open file, get text\n",
    "    with open(filename, 'r') as file:\n",
    "        og_text = file.read()\n",
    "    \n",
    "    text = og_text.split(\"\\n\")\n",
    "    \n",
    "    #filter to get what we want \n",
    "    filtered_array = [element for element in text if \"Late Orders\" in element]\n",
    "    filtered_array = list(filter(lambda x: (\"Late Orders\" in x or \"On Time Orders\" in x) and \"Private Label\" not in x, text))\n",
    "    filtered_array\n",
    "    \n",
    "    #convert to DF\n",
    "    order_data = [re.split(r'\\s{2,}', elem.strip())[:2] for elem in filtered_array]\n",
    "    df = pd.DataFrame(order_data, columns=[\"Order Type\", \"Count\"])\n",
    "    df['Count'] = df['Count'].astype(int)\n",
    "    \n",
    "    #make edits to DF\n",
    "    df_even = df.iloc[::2].reset_index(drop=True)\n",
    "    df_odd = df.iloc[1::2].reset_index(drop=True)\n",
    "    df_merge = pd.concat([df_even, df_odd], axis=1)\n",
    "    df_merge = df_merge.rename(columns={'Order Type': 'Late', 'Count': 'OT_Count'})\n",
    "    new_columns = ['Late', 'Late_Count', 'On_Time', 'OT_Count']\n",
    "    df_merge.columns = new_columns\n",
    "    \n",
    "    #Calculate percentages\n",
    "    df_merge[\"Sum\"] = df_merge[\"Late_Count\"] + df_merge[\"OT_Count\"]\n",
    "    df_merge[\"OT_Percent\"] = df_merge[\"OT_Count\"] / df_merge[\"Sum\"]\n",
    "    \n",
    "    #Compute average\n",
    "    on_time_avg = df_merge['OT_Percent'].mean()\n",
    "    on_time_avg = on_time_avg = round(on_time_avg, 4)\n",
    " \n",
    "    return on_time_avg"
   ]
  },
  {
   "cell_type": "code",
   "execution_count": null,
   "id": "525f3e50-6d40-47a6-a42a-e0d9e6b4f3e1",
   "metadata": {},
   "outputs": [],
   "source": [
    "for fn in filenames: \n",
    "    "
   ]
  },
  {
   "cell_type": "code",
   "execution_count": 17,
   "id": "ba64685e-fe04-4ef5-8183-ff44baa1e0eb",
   "metadata": {},
   "outputs": [
    {
     "data": {
      "text/plain": [
       "0.7056"
      ]
     },
     "execution_count": 17,
     "metadata": {},
     "output_type": "execute_result"
    }
   ],
   "source": [
    "fn = 'inputs/extra_m_and_g.txt'\n",
    "fn2 = 'inputs/extra_bucket.txt'\n",
    "\n",
    "temp = compute_on_time_percent(fn)\n",
    "\n",
    "temp"
   ]
  }
 ],
 "metadata": {
  "kernelspec": {
   "display_name": "Python 3 (ipykernel)",
   "language": "python",
   "name": "python3"
  },
  "language_info": {
   "codemirror_mode": {
    "name": "ipython",
    "version": 3
   },
   "file_extension": ".py",
   "mimetype": "text/x-python",
   "name": "python",
   "nbconvert_exporter": "python",
   "pygments_lexer": "ipython3",
   "version": "3.9.13"
  }
 },
 "nbformat": 4,
 "nbformat_minor": 5
}
