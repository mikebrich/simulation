{
 "cells": [
  {
   "cell_type": "code",
   "execution_count": 1,
   "id": "3ab00ac2-cd33-4c99-8e79-1259c91c26d5",
   "metadata": {},
   "outputs": [],
   "source": [
    "import pandas as pd\n",
    "import numpy as np\n",
    "import re"
   ]
  },
  {
   "cell_type": "code",
   "execution_count": 2,
   "id": "7d55a678-83eb-4b8a-a52b-08c4fe54eb7e",
   "metadata": {},
   "outputs": [],
   "source": [
    "with open('inputs/extra_bucket.txt', 'r') as f:\n",
    "    text = f.read()"
   ]
  },
  {
   "cell_type": "code",
   "execution_count": 3,
   "id": "efda47b4-7ad6-4b4d-a3db-8bc6955e8436",
   "metadata": {},
   "outputs": [],
   "source": [
    "lines = text.split(\"\\n\")\n"
   ]
  },
  {
   "cell_type": "code",
   "execution_count": 4,
   "id": "76c86a9c-6be8-45d0-a487-75fa628a8684",
   "metadata": {},
   "outputs": [
    {
     "data": {
      "text/plain": [
       "['Late Orders                                     371  Infinite',\n",
       " 'On Time Orders                                  927  Infinite',\n",
       " 'Late Orders                                     467  Infinite',\n",
       " 'On Time Orders                                  806  Infinite',\n",
       " 'Late Orders                                     633  Infinite',\n",
       " 'On Time Orders                                  642  Infinite',\n",
       " 'Late Orders                                     576  Infinite',\n",
       " 'On Time Orders                                  703  Infinite',\n",
       " 'Late Orders                                     113  Infinite',\n",
       " 'On Time Orders                                 1202  Infinite']"
      ]
     },
     "execution_count": 4,
     "metadata": {},
     "output_type": "execute_result"
    }
   ],
   "source": [
    "filtered_array = [element for element in lines if \"Late Orders\" in element]\n",
    "filtered_array = list(filter(lambda x: (\"Late Orders\" in x or \"On Time Orders\" in x) and \"Private Label\" not in x, lines))\n",
    "filtered_array"
   ]
  },
  {
   "cell_type": "code",
   "execution_count": null,
   "id": "e2c71347-6cc9-4abb-8de2-38edb434895e",
   "metadata": {},
   "outputs": [
    {
     "data": {
      "text/html": [
       "<div>\n",
       "<style scoped>\n",
       "    .dataframe tbody tr th:only-of-type {\n",
       "        vertical-align: middle;\n",
       "    }\n",
       "\n",
       "    .dataframe tbody tr th {\n",
       "        vertical-align: top;\n",
       "    }\n",
       "\n",
       "    .dataframe thead th {\n",
       "        text-align: right;\n",
       "    }\n",
       "</style>\n",
       "<table border=\"1\" class=\"dataframe\">\n",
       "  <thead>\n",
       "    <tr style=\"text-align: right;\">\n",
       "      <th></th>\n",
       "      <th>Order Type</th>\n",
       "      <th>Count</th>\n",
       "    </tr>\n",
       "  </thead>\n",
       "  <tbody>\n",
       "    <tr>\n",
       "      <th>0</th>\n",
       "      <td>Late Orders</td>\n",
       "      <td>371</td>\n",
       "    </tr>\n",
       "    <tr>\n",
       "      <th>1</th>\n",
       "      <td>On Time Orders</td>\n",
       "      <td>927</td>\n",
       "    </tr>\n",
       "    <tr>\n",
       "      <th>2</th>\n",
       "      <td>Late Orders</td>\n",
       "      <td>467</td>\n",
       "    </tr>\n",
       "    <tr>\n",
       "      <th>3</th>\n",
       "      <td>On Time Orders</td>\n",
       "      <td>806</td>\n",
       "    </tr>\n",
       "    <tr>\n",
       "      <th>4</th>\n",
       "      <td>Late Orders</td>\n",
       "      <td>633</td>\n",
       "    </tr>\n",
       "    <tr>\n",
       "      <th>5</th>\n",
       "      <td>On Time Orders</td>\n",
       "      <td>642</td>\n",
       "    </tr>\n",
       "    <tr>\n",
       "      <th>6</th>\n",
       "      <td>Late Orders</td>\n",
       "      <td>576</td>\n",
       "    </tr>\n",
       "    <tr>\n",
       "      <th>7</th>\n",
       "      <td>On Time Orders</td>\n",
       "      <td>703</td>\n",
       "    </tr>\n",
       "    <tr>\n",
       "      <th>8</th>\n",
       "      <td>Late Orders</td>\n",
       "      <td>113</td>\n",
       "    </tr>\n",
       "    <tr>\n",
       "      <th>9</th>\n",
       "      <td>On Time Orders</td>\n",
       "      <td>1202</td>\n",
       "    </tr>\n",
       "  </tbody>\n",
       "</table>\n",
       "</div>"
      ],
      "text/plain": [
       "       Order Type  Count\n",
       "0     Late Orders    371\n",
       "1  On Time Orders    927\n",
       "2     Late Orders    467\n",
       "3  On Time Orders    806\n",
       "4     Late Orders    633\n",
       "5  On Time Orders    642\n",
       "6     Late Orders    576\n",
       "7  On Time Orders    703\n",
       "8     Late Orders    113\n",
       "9  On Time Orders   1202"
      ]
     },
     "execution_count": 10,
     "metadata": {},
     "output_type": "execute_result"
    }
   ],
   "source": [
    "order_data = [re.split(r'\\s{2,}', elem.strip())[:2] for elem in filtered_array]\n",
    "\n",
    "df = pd.DataFrame(order_data, columns=[\"Order Type\", \"Count\"])\n",
    "df['Count'] = df['Count'].astype(int)\n",
    "df"
   ]
  },
  {
   "cell_type": "code",
   "execution_count": 24,
   "id": "fb06f1bd-92c3-4923-9b09-d7ad020ee300",
   "metadata": {},
   "outputs": [
    {
     "data": {
      "text/html": [
       "<div>\n",
       "<style scoped>\n",
       "    .dataframe tbody tr th:only-of-type {\n",
       "        vertical-align: middle;\n",
       "    }\n",
       "\n",
       "    .dataframe tbody tr th {\n",
       "        vertical-align: top;\n",
       "    }\n",
       "\n",
       "    .dataframe thead th {\n",
       "        text-align: right;\n",
       "    }\n",
       "</style>\n",
       "<table border=\"1\" class=\"dataframe\">\n",
       "  <thead>\n",
       "    <tr style=\"text-align: right;\">\n",
       "      <th></th>\n",
       "      <th>Late</th>\n",
       "      <th>Late_Count</th>\n",
       "      <th>On_Time</th>\n",
       "      <th>OT_Count</th>\n",
       "    </tr>\n",
       "  </thead>\n",
       "  <tbody>\n",
       "    <tr>\n",
       "      <th>0</th>\n",
       "      <td>Late Orders</td>\n",
       "      <td>371</td>\n",
       "      <td>On Time Orders</td>\n",
       "      <td>927</td>\n",
       "    </tr>\n",
       "    <tr>\n",
       "      <th>1</th>\n",
       "      <td>Late Orders</td>\n",
       "      <td>467</td>\n",
       "      <td>On Time Orders</td>\n",
       "      <td>806</td>\n",
       "    </tr>\n",
       "    <tr>\n",
       "      <th>2</th>\n",
       "      <td>Late Orders</td>\n",
       "      <td>633</td>\n",
       "      <td>On Time Orders</td>\n",
       "      <td>642</td>\n",
       "    </tr>\n",
       "    <tr>\n",
       "      <th>3</th>\n",
       "      <td>Late Orders</td>\n",
       "      <td>576</td>\n",
       "      <td>On Time Orders</td>\n",
       "      <td>703</td>\n",
       "    </tr>\n",
       "    <tr>\n",
       "      <th>4</th>\n",
       "      <td>Late Orders</td>\n",
       "      <td>113</td>\n",
       "      <td>On Time Orders</td>\n",
       "      <td>1202</td>\n",
       "    </tr>\n",
       "  </tbody>\n",
       "</table>\n",
       "</div>"
      ],
      "text/plain": [
       "          Late  Late_Count         On_Time  OT_Count\n",
       "0  Late Orders         371  On Time Orders       927\n",
       "1  Late Orders         467  On Time Orders       806\n",
       "2  Late Orders         633  On Time Orders       642\n",
       "3  Late Orders         576  On Time Orders       703\n",
       "4  Late Orders         113  On Time Orders      1202"
      ]
     },
     "execution_count": 24,
     "metadata": {},
     "output_type": "execute_result"
    }
   ],
   "source": [
    "df_even = df.iloc[::2].reset_index(drop=True)\n",
    "df_odd = df.iloc[1::2].reset_index(drop=True)\n",
    "df_merge = pd.concat([df_even, df_odd], axis=1)\n",
    "df_merge = df_merge.rename(columns={'Order Type': 'Late', 'Count': 'OT_Count'})\n",
    "new_columns = ['Late', 'Late_Count', 'On_Time', 'OT_Count']\n",
    "\n",
    "# rename the columns using the new list of column names\n",
    "df_merge.columns = new_columns\n",
    "df_merge"
   ]
  },
  {
   "cell_type": "code",
   "execution_count": 26,
   "id": "0af2fae6-f6d4-4552-9611-2c4d33864475",
   "metadata": {},
   "outputs": [
    {
     "data": {
      "text/html": [
       "<div>\n",
       "<style scoped>\n",
       "    .dataframe tbody tr th:only-of-type {\n",
       "        vertical-align: middle;\n",
       "    }\n",
       "\n",
       "    .dataframe tbody tr th {\n",
       "        vertical-align: top;\n",
       "    }\n",
       "\n",
       "    .dataframe thead th {\n",
       "        text-align: right;\n",
       "    }\n",
       "</style>\n",
       "<table border=\"1\" class=\"dataframe\">\n",
       "  <thead>\n",
       "    <tr style=\"text-align: right;\">\n",
       "      <th></th>\n",
       "      <th>Late</th>\n",
       "      <th>Late_Count</th>\n",
       "      <th>On_Time</th>\n",
       "      <th>OT_Count</th>\n",
       "      <th>Sum</th>\n",
       "      <th>OT_Ratio</th>\n",
       "      <th>OT_Percent</th>\n",
       "    </tr>\n",
       "  </thead>\n",
       "  <tbody>\n",
       "    <tr>\n",
       "      <th>0</th>\n",
       "      <td>Late Orders</td>\n",
       "      <td>371</td>\n",
       "      <td>On Time Orders</td>\n",
       "      <td>927</td>\n",
       "      <td>1298</td>\n",
       "      <td>0.714176</td>\n",
       "      <td>0.714176</td>\n",
       "    </tr>\n",
       "    <tr>\n",
       "      <th>1</th>\n",
       "      <td>Late Orders</td>\n",
       "      <td>467</td>\n",
       "      <td>On Time Orders</td>\n",
       "      <td>806</td>\n",
       "      <td>1273</td>\n",
       "      <td>0.633150</td>\n",
       "      <td>0.633150</td>\n",
       "    </tr>\n",
       "    <tr>\n",
       "      <th>2</th>\n",
       "      <td>Late Orders</td>\n",
       "      <td>633</td>\n",
       "      <td>On Time Orders</td>\n",
       "      <td>642</td>\n",
       "      <td>1275</td>\n",
       "      <td>0.503529</td>\n",
       "      <td>0.503529</td>\n",
       "    </tr>\n",
       "    <tr>\n",
       "      <th>3</th>\n",
       "      <td>Late Orders</td>\n",
       "      <td>576</td>\n",
       "      <td>On Time Orders</td>\n",
       "      <td>703</td>\n",
       "      <td>1279</td>\n",
       "      <td>0.549648</td>\n",
       "      <td>0.549648</td>\n",
       "    </tr>\n",
       "    <tr>\n",
       "      <th>4</th>\n",
       "      <td>Late Orders</td>\n",
       "      <td>113</td>\n",
       "      <td>On Time Orders</td>\n",
       "      <td>1202</td>\n",
       "      <td>1315</td>\n",
       "      <td>0.914068</td>\n",
       "      <td>0.914068</td>\n",
       "    </tr>\n",
       "  </tbody>\n",
       "</table>\n",
       "</div>"
      ],
      "text/plain": [
       "          Late  Late_Count         On_Time  OT_Count   Sum  OT_Ratio  \\\n",
       "0  Late Orders         371  On Time Orders       927  1298  0.714176   \n",
       "1  Late Orders         467  On Time Orders       806  1273  0.633150   \n",
       "2  Late Orders         633  On Time Orders       642  1275  0.503529   \n",
       "3  Late Orders         576  On Time Orders       703  1279  0.549648   \n",
       "4  Late Orders         113  On Time Orders      1202  1315  0.914068   \n",
       "\n",
       "   OT_Percent  \n",
       "0    0.714176  \n",
       "1    0.633150  \n",
       "2    0.503529  \n",
       "3    0.549648  \n",
       "4    0.914068  "
      ]
     },
     "execution_count": 26,
     "metadata": {},
     "output_type": "execute_result"
    }
   ],
   "source": [
    "df_merge[\"Sum\"] = df_merge[\"Late_Count\"] + df_merge[\"OT_Count\"]\n",
    "df_merge[\"OT_Percent\"] = df_merge[\"OT_Count\"] / df_merge[\"Sum\"]\n",
    "df_merge"
   ]
  },
  {
   "cell_type": "code",
   "execution_count": 34,
   "id": "4f164873-8a7d-42fd-8ed1-de67db7844b0",
   "metadata": {},
   "outputs": [
    {
     "data": {
      "text/plain": [
       "0.6629"
      ]
     },
     "execution_count": 34,
     "metadata": {},
     "output_type": "execute_result"
    }
   ],
   "source": [
    "on_time_avg = df_merge['OT_Percent'].mean()\n",
    "on_time_avg = on_time_avg = round(on_time_avg, 4)\n",
    "on_time_avg"
   ]
  }
 ],
 "metadata": {
  "kernelspec": {
   "display_name": "Python 3 (ipykernel)",
   "language": "python",
   "name": "python3"
  },
  "language_info": {
   "codemirror_mode": {
    "name": "ipython",
    "version": 3
   },
   "file_extension": ".py",
   "mimetype": "text/x-python",
   "name": "python",
   "nbconvert_exporter": "python",
   "pygments_lexer": "ipython3",
   "version": "3.9.13"
  }
 },
 "nbformat": 4,
 "nbformat_minor": 5
}
